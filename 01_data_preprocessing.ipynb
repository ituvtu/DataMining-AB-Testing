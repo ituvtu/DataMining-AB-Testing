{
 "cells": [
  {
   "cell_type": "markdown",
   "metadata": {},
   "source": [
    "# Statistical Analysis and Hypothesis Testing – A/B Testing of a Marketing Campaign\n",
    "\n",
    "## Objective\n",
    "Conduct an A/B test to evaluate the effectiveness of two marketing campaigns using statistical analysis.\n",
    "\n",
    "## Dataset\n",
    "Use a dataset for A/B testing from platforms such as Kaggle or the UCI Machine Learning Repository.\n",
    "\n",
    "---\n",
    "\n",
    "## Part 1: Data Loading and Preprocessing\n",
    "\n",
    "### Tasks:\n",
    "1. Load a dataset containing user interaction data for two marketing campaigns (A and B).\n",
    "2. Clean the data by handling missing or incorrect values to ensure the dataset is ready for analysis.\n",
    "\n",
    "### Output:\n",
    "- A cleaned and structured dataset for further analysis.\n",
    "\n",
    "---"
   ]
  },
  {
   "cell_type": "markdown",
   "metadata": {},
   "source": [
    "# Data Loading and Preprocessing\n",
    "\n",
    "This section focuses on preparing the dataset for analysis by following these steps:\n",
    "\n",
    "## Objective\n",
    "- Load a dataset containing user interaction data from two marketing campaigns (A and B).\n",
    "- Clean the data by handling missing or incorrect values to ensure its quality for further analysis.\n",
    "\n",
    "The goal is to create a clean and structured dataset that can be used for reliable and accurate analysis in subsequent sections.\n"
   ]
  },
  {
   "cell_type": "markdown",
   "metadata": {},
   "source": [
    "### Import + config"
   ]
  },
  {
   "cell_type": "code",
   "execution_count": 1,
   "metadata": {},
   "outputs": [],
   "source": [
    "%load_ext autoreload\n",
    "%autoreload 2"
   ]
  },
  {
   "cell_type": "code",
   "execution_count": 2,
   "metadata": {},
   "outputs": [],
   "source": [
    "import pandas as pd\n",
    "from functions import *"
   ]
  },
  {
   "cell_type": "markdown",
   "metadata": {},
   "source": [
    "## Steps\n",
    "1. **Data Loading**: Import the dataset into the notebook for analysis. Ensure the data contains information about user interactions with campaigns A and B."
   ]
  },
  {
   "cell_type": "code",
   "execution_count": 3,
   "metadata": {},
   "outputs": [],
   "source": [
    "control_df = pd.read_csv('datasets/control_group.csv', delimiter=',')\n",
    "test_df = pd.read_csv('datasets/test_group.csv', delimiter=',')\n"
   ]
  },
  {
   "cell_type": "markdown",
   "metadata": {},
   "source": [
    "2. **Data Cleaning**: \n",
    "   - Identify and handle any missing values (e.g., using imputation or removal).\n",
    "   - Correct or remove invalid data entries.\n",
    "   - Ensure consistency in data formats (e.g., dates, numerical values, categorical labels)."
   ]
  },
  {
   "cell_type": "code",
   "execution_count": 4,
   "metadata": {},
   "outputs": [
    {
     "data": {
      "text/plain": [
       "Index(['Campaign Name', 'Date', 'Spend [USD]', '# of Impressions', 'Reach',\n",
       "       '# of Website Clicks', '# of Searches', '# of View Content',\n",
       "       '# of Add to Cart', '# of Purchase'],\n",
       "      dtype='object')"
      ]
     },
     "execution_count": 4,
     "metadata": {},
     "output_type": "execute_result"
    }
   ],
   "source": [
    "control_df.columns"
   ]
  },
  {
   "cell_type": "code",
   "execution_count": 5,
   "metadata": {},
   "outputs": [
    {
     "name": "stdout",
     "output_type": "stream",
     "text": [
      "Index(['Campaign Name', 'Date', 'Spend [USD]', '# of Impressions', 'Reach',\n",
      "       '# of Website Clicks', '# of Searches', '# of View Content',\n",
      "       '# of Add to Cart', '# of Purchase'],\n",
      "      dtype='object')\n",
      "Index(['Campaign Name', 'Date', 'Spend [USD]', '# of Impressions', 'Reach',\n",
      "       '# of Website Clicks', '# of Searches', '# of View Content',\n",
      "       '# of Add to Cart', '# of Purchase'],\n",
      "      dtype='object')\n"
     ]
    }
   ],
   "source": [
    "# Apply the function to both DataFrames\n",
    "control_df = clean_column_names(control_df)\n",
    "test_df = clean_column_names(test_df)"
   ]
  },
  {
   "cell_type": "code",
   "execution_count": 6,
   "metadata": {},
   "outputs": [
    {
     "data": {
      "text/plain": [
       "Index(['campaign_name', 'date', 'spend', 'impressions', 'reach',\n",
       "       'website_clicks', 'searches', 'view_content', 'add_to_cart',\n",
       "       'purchase'],\n",
       "      dtype='object')"
      ]
     },
     "execution_count": 6,
     "metadata": {},
     "output_type": "execute_result"
    }
   ],
   "source": [
    "control_df.columns"
   ]
  },
  {
   "cell_type": "code",
   "execution_count": 7,
   "metadata": {},
   "outputs": [],
   "source": [
    "# Apply the function to both datasets\n",
    "columns = control_df.select_dtypes(include=['number']).columns.tolist()\n",
    "control_df_i = correct_using_interpolation(control_df, columns)\n",
    "test_df_i = correct_using_interpolation(test_df, columns)\n"
   ]
  },
  {
   "cell_type": "code",
   "execution_count": 8,
   "metadata": {},
   "outputs": [
    {
     "data": {
      "text/plain": [
       "Index(['campaign_name', 'date', 'spend', 'impressions', 'reach',\n",
       "       'website_clicks', 'searches', 'view_content', 'add_to_cart',\n",
       "       'purchase'],\n",
       "      dtype='object')"
      ]
     },
     "execution_count": 8,
     "metadata": {},
     "output_type": "execute_result"
    }
   ],
   "source": [
    "control_df.columns"
   ]
  },
  {
   "cell_type": "code",
   "execution_count": 9,
   "metadata": {},
   "outputs": [],
   "source": [
    "# Check logical consistency after cleaning column names\n",
    "control_details = check_logical_consistency(control_df)\n",
    "test_details = check_logical_consistency(test_df)"
   ]
  },
  {
   "cell_type": "code",
   "execution_count": 10,
   "metadata": {},
   "outputs": [
    {
     "name": "stdout",
     "output_type": "stream",
     "text": [
      "Anomalies in control dataset before correction:\n",
      "Sum of anomalies: 8\n",
      "Anomalies in rows:\n",
      "Row 3\n",
      "Row 6\n",
      "Row 9\n",
      "Row 11\n",
      "Row 13\n",
      "Row 14\n",
      "Row 19\n",
      "Row 27\n",
      "Anomalies in test dataset before correction:\n",
      "Sum of anomalies: 1\n",
      "Anomalies in rows:\n",
      "Row 4\n"
     ]
    }
   ],
   "source": [
    "log_anomalies(control_details, 'control', 'before')\n",
    "log_anomalies(test_details, 'test', 'before')"
   ]
  },
  {
   "cell_type": "code",
   "execution_count": 11,
   "metadata": {},
   "outputs": [],
   "source": [
    "# Use the method to check data in both groups\n",
    "inconsistent_control_details = check_logical_consistency(control_df_i)\n",
    "inconsistent_test_details = check_logical_consistency(test_df_i)"
   ]
  },
  {
   "cell_type": "code",
   "execution_count": 12,
   "metadata": {},
   "outputs": [
    {
     "name": "stdout",
     "output_type": "stream",
     "text": [
      "Anomalies in control dataset after correction:\n",
      "Sum of anomalies: 0\n",
      "Anomalies in test dataset after correction:\n",
      "Sum of anomalies: 0\n"
     ]
    }
   ],
   "source": [
    "# Log the results of the check\n",
    "log_anomalies(inconsistent_control_details, 'control', 'after')\n",
    "log_anomalies(inconsistent_test_details, 'test', 'after')"
   ]
  },
  {
   "cell_type": "code",
   "execution_count": 13,
   "metadata": {},
   "outputs": [],
   "source": [
    "# Fill missing values with the mean for numeric columns\n",
    "control_df_i = fill_missing_with_rounded_mean(control_df_i)\n",
    "test_df_i = fill_missing_with_rounded_mean(test_df_i)\n",
    "\n",
    "# Convert only numeric columns to numeric types\n",
    "numeric_columns = control_df_i.select_dtypes(include=['number']).columns\n",
    "control_df_i[numeric_columns] = control_df_i[numeric_columns].apply(pd.to_numeric)\n",
    "test_df_i[numeric_columns] = test_df_i[numeric_columns].apply(pd.to_numeric)\n",
    "\n",
    "control_df_i['spend'] = control_df_i['spend'].astype('float')\n",
    "test_df_i['spend'] = test_df_i['spend'].astype('float')"
   ]
  },
  {
   "cell_type": "code",
   "execution_count": 14,
   "metadata": {},
   "outputs": [],
   "source": [
    "# Save the processed DataFrames to CSV files\n",
    "control_df_i.to_csv(\"datasets/control_i.csv\", index=False)\n",
    "test_df_i.to_csv(\"datasets/test_i.csv\", index=False)"
   ]
  },
  {
   "cell_type": "code",
   "execution_count": 15,
   "metadata": {},
   "outputs": [
    {
     "data": {
      "image/png": "[encoded data removed]",
      "text/plain": [
       "<Figure size 640x480 with 1 Axes>"
      ]
     },
     "metadata": {},
     "output_type": "display_data"
    }
   ],
   "source": [
    "plot_comparison_column(control_df_i, test_df_i, 'spend')"
   ]
  }
 ],
 "metadata": {
  "kernelspec": {
   "display_name": "Python 3",
   "language": "python",
   "name": "python3"
  },
  "language_info": {
   "codemirror_mode": {
    "name": "ipython",
    "version": 3
   },
   "file_extension": ".py",
   "mimetype": "text/x-python",
   "name": "python",
   "nbconvert_exporter": "python",
   "pygments_lexer": "ipython3",
   "version": "3.13.1"
  }
 },
 "nbformat": 4,
 "nbformat_minor": 2
}
